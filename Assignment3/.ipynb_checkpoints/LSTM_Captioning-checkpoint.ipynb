{
 "cells": [
  {
   "cell_type": "markdown",
   "metadata": {},
   "source": [
    "# Assignment 3\n",
    "## Image Captioning with LSTMs\n"
   ]
  },
  {
   "cell_type": "code",
   "execution_count": 1,
   "metadata": {},
   "outputs": [
    {
     "name": "stdout",
     "output_type": "stream",
     "text": [
      "run the following from the cs231n directory and try again:\n",
      "python setup.py build_ext --inplace\n",
      "You may also need to restart your iPython kernel\n"
     ]
    }
   ],
   "source": [
    "import time, os, json\n",
    "import numpy as np\n",
    "import matplotlib.pyplot as plt\n",
    "\n",
    "from cs231n.gradient_check import eval_numerical_gradient, eval_numerical_gradient_array\n",
    "from cs231n.rnn_layers import *\n",
    "from cs231n.captioning_solver import CaptioningSolver\n",
    "from cs231n.classifiers.rnn import CaptioningRNN\n",
    "from cs231n.coco_utils import load_coco_data, sample_coco_minibatch, decode_captions\n",
    "from cs231n.image_utils import image_from_url\n",
    "\n",
    "%matplotlib inline\n",
    "plt.rcParams['figure.figsize'] = (10.0, 8.0) # set default size of plots\n",
    "plt.rcParams['image.interpolation'] = 'nearest'\n",
    "plt.rcParams['image.cmap'] = 'gray'\n",
    "\n",
    "# for auto-reloading external modules\n",
    "# see http://stackoverflow.com/questions/1907993/autoreload-of-modules-in-ipython\n",
    "%load_ext autoreload\n",
    "%autoreload 2\n",
    "\n",
    "def rel_error(x, y):\n",
    "  \"\"\" returns relative error \"\"\"\n",
    "  return np.max(np.abs(x - y) / (np.maximum(1e-8, np.abs(x) + np.abs(y))))"
   ]
  },
  {
   "cell_type": "markdown",
   "metadata": {},
   "source": [
    "## Load MS-COCO data"
   ]
  },
  {
   "cell_type": "code",
   "execution_count": 4,
   "metadata": {},
   "outputs": [
    {
     "name": "stdout",
     "output_type": "stream",
     "text": [
      "train_captions <class 'numpy.ndarray'> (400135, 17) int32\n",
      "train_image_idxs <class 'numpy.ndarray'> (400135,) int32\n",
      "val_captions <class 'numpy.ndarray'> (195954, 17) int32\n",
      "val_image_idxs <class 'numpy.ndarray'> (195954,) int32\n",
      "train_features <class 'numpy.ndarray'> (82783, 512) float32\n",
      "val_features <class 'numpy.ndarray'> (40504, 512) float32\n",
      "idx_to_word <class 'list'> 1004\n",
      "word_to_idx <class 'dict'> 1004\n",
      "train_urls <class 'numpy.ndarray'> (82783,) <U63\n",
      "val_urls <class 'numpy.ndarray'> (40504,) <U63\n"
     ]
    }
   ],
   "source": [
    "data = load_coco_data(pca_features=True)\n",
    "\n",
    "for k, v in data.items():\n",
    "    if type(v) == np.ndarray:\n",
    "        print(k, type(v), v.shape, v.dtype)\n",
    "    else:\n",
    "        print(k, type(v), len(v))"
   ]
  },
  {
   "cell_type": "markdown",
   "metadata": {},
   "source": [
    "## LSTM\n",
    "\n",
    "现在很多人们都更习惯使用 Long-Short Term Memory RNNs (LSTM)，而不是普通的 RNN。由于重复的矩阵运算容易导致梯度消失和爆炸的问题，普通的 RNN 很难完成在长序列上的训练。LSTM 通过使用如下描述的选通机制替换普通 RNN 的简单更新规则使上述问题得到很好的解决\n",
    "\n",
    "和普通 RNN 一样，每个时间步模型接受输入 $x_t\\in\\mathbb{R}^D$ 和上一步的 hidden state $h_{t-1}\\in\\mathbb{R}^H$；LSTM 同时维持一个维度为 $H$ 的 cell state，这样我们同样就需要接受上一步的 cell state $c_{t-1}\\in\\mathbb{R}^H$\n",
    "\n",
    "LSTM 的学习参数是一个 input-to-hidden matrix $W_x\\in\\mathbb{R}^{4H\\times D}$、一个 hidden-to-hidden matrix $W_h\\in\\mathbb{R}^{4H\\times H}$ 以及一个偏置向量 $b \\in\\mathbb{R}^{4H}$\n",
    "\n",
    "每个时间步上，我们先计算激活向量 $a\\in\\mathbb{R}^{4H}$，$a=W_xx_t+W_hh_{t-1}+b$，然后我们我们将其分为四个向量 $a_i,a_f,a_o,a_g\\in\\mathbb{R}^H$，其中 $a_i$ 是 $a$ 中的前 $H$ 个元素，$a_f$ 是接下来 $H$ 个元素，以此类推。再然后，我们计算输入门 $i\\in\\mathbb{R}^H$、遗忘门 $f\\in\\mathbb{R}^H$、输出门 $o\\in\\mathbb{R}^H$ 和 block input $g\\in\\mathbb{R}^H$，公式如下 $i=\\sigma(a_i),f=\\sigma(a_f),o=\\sigma(a_o),g=tanh(a_g)$\n",
    "\n",
    "最后，我们计算下一步的 cell state $c_t$ 和 hidden state $h_t$，计算公式如下 $c_t=f\\bigodot c_{t-1}+i\\bigodot g, h_t=o\\bigodot tanh(c_t)$，$\\bigodot$ 视作向量的元素积"
   ]
  },
  {
   "cell_type": "markdown",
   "metadata": {},
   "source": [
    "## LSTM: steo forward"
   ]
  },
  {
   "cell_type": "code",
   "execution_count": null,
   "metadata": {},
   "outputs": [],
   "source": []
  }
 ],
 "metadata": {
  "kernelspec": {
   "display_name": "Python 3",
   "language": "python",
   "name": "python3"
  },
  "language_info": {
   "codemirror_mode": {
    "name": "ipython",
    "version": 3
   },
   "file_extension": ".py",
   "mimetype": "text/x-python",
   "name": "python",
   "nbconvert_exporter": "python",
   "pygments_lexer": "ipython3",
   "version": "3.8.5"
  }
 },
 "nbformat": 4,
 "nbformat_minor": 2
}
